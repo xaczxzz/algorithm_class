{
 "cells": [
  {
   "cell_type": "code",
   "execution_count": 2,
   "id": "394b3faa",
   "metadata": {},
   "outputs": [
    {
     "name": "stdout",
     "output_type": "stream",
     "text": [
      "[20, 34, 12, 93, 84, 39, 64, 55, 24] 최댓값= 93\n"
     ]
    }
   ],
   "source": [
    "def find_max( A ): \n",
    "\n",
    "    max = A[0]\n",
    "\n",
    "    for i in range(len(A)) :\n",
    "\n",
    "        if A[i] > max :\n",
    "\n",
    "            max = A[i]\n",
    "\n",
    "    return max\n",
    "\n",
    " \n",
    "\n",
    "array = [ 20, 34, 12, 93, 84, 39, 64, 55, 24 ]\n",
    "\n",
    "print(array, \"최댓값=\", find_max(array))"
   ]
  },
  {
   "cell_type": "code",
   "execution_count": 7,
   "id": "8a8a3bfb",
   "metadata": {},
   "outputs": [
    {
     "name": "stdout",
     "output_type": "stream",
     "text": [
      "60과 28의 최대 공약수 4\n"
     ]
    }
   ],
   "source": [
    "def gdc(a,b):\n",
    "    while b:\n",
    "        a,b = b,a % b\n",
    "    return a\n",
    "print(\"60과 28의 최대 공약수\",gdc(60,28))"
   ]
  },
  {
   "cell_type": "code",
   "execution_count": null,
   "id": "17d12c83",
   "metadata": {},
   "outputs": [],
   "source": []
  }
 ],
 "metadata": {
  "kernelspec": {
   "display_name": "Python 3 (ipykernel)",
   "language": "python",
   "name": "python3"
  },
  "language_info": {
   "codemirror_mode": {
    "name": "ipython",
    "version": 3
   },
   "file_extension": ".py",
   "mimetype": "text/x-python",
   "name": "python",
   "nbconvert_exporter": "python",
   "pygments_lexer": "ipython3",
   "version": "3.10.9"
  }
 },
 "nbformat": 4,
 "nbformat_minor": 5
}
