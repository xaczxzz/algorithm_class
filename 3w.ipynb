{
 "cells": [
  {
   "cell_type": "markdown",
   "id": "f16ffcf5",
   "metadata": {},
   "source": [
    "# 3장"
   ]
  },
  {
   "cell_type": "markdown",
   "id": "b128d7c3",
   "metadata": {},
   "source": [
    "# 깊이 우선 탐색 stack"
   ]
  },
  {
   "cell_type": "code",
   "execution_count": 1,
   "id": "ef078650",
   "metadata": {},
   "outputs": [
    {
     "name": "stdout",
     "output_type": "stream",
     "text": [
      "DFS : A B D C E G H F \n"
     ]
    }
   ],
   "source": [
    "vertex = [\"A\",\"B\",\"C\",\"D\",\"E\",\"F\",\"G\",\"H\"]\n",
    "adjMat = [[0,1,1,0,0,0,0,0],\n",
    "          [1,0,0,1,0,0,0,0],\n",
    "          [1,0,0,1,1,0,0,0],\n",
    "          [0,1,1,0,0,1,0,0],\n",
    "          [0,0,1,0,0,0,1,1],\n",
    "          [0,0,0,1,0,0,0,0],\n",
    "          [0,0,0,0,1,0,0,1],\n",
    "          [0,0,0,0,1,0,1,0]\n",
    "         ]\n",
    "\n",
    "\n",
    "def dfs_recur(adj, vtx, visited, id) :\n",
    "\n",
    "    print(vtx[id], end=' ')\n",
    "\n",
    "    visited[id] = True\n",
    "\n",
    "    for v in range(len(vtx)) :\n",
    "\n",
    "        if visited[v]==False and adj[id][v] != 0 :\n",
    "\n",
    "            dfs_recur(adj, vtx, visited, v)\n",
    "\n",
    "    return\n",
    "\n",
    "def dfs(adj, vtx, s):\n",
    "\n",
    "    n = len(vtx)\n",
    "\n",
    "    visited = [False]*n\n",
    "\n",
    "    dfs_recur(adj, vtx, visited, s)\n",
    "\n",
    " \n",
    "\n",
    "print('DFS : ', end='')\n",
    "\n",
    "dfs(adjMat,vertex, 0)\n",
    "\n",
    "print()"
   ]
  },
  {
   "cell_type": "markdown",
   "id": "c54619f1",
   "metadata": {},
   "source": [
    "복잡도\n",
    "인접리스트 표현 : O(n+e)\n",
    "## 인접행렬 표현: O(n^2)"
   ]
  },
  {
   "cell_type": "markdown",
   "id": "b16ffafb",
   "metadata": {},
   "source": [
    "# 인접행렬 너비우선 탐색 queue"
   ]
  },
  {
   "cell_type": "code",
   "execution_count": 2,
   "id": "7df7e631",
   "metadata": {},
   "outputs": [
    {
     "name": "stdout",
     "output_type": "stream",
     "text": [
      "BFS : A B C D E F G H \n"
     ]
    }
   ],
   "source": [
    "vertex = [\"A\",\"B\",\"C\",\"D\",\"E\",\"F\",\"G\",\"H\"]\n",
    "adjMat = [[0,1,1,0,0,0,0,0],\n",
    "          [1,0,0,1,0,0,0,0],\n",
    "          [1,0,0,1,1,0,0,0],\n",
    "          [0,1,1,0,0,1,0,0],\n",
    "          [0,0,1,0,0,0,1,1],\n",
    "          [0,0,0,1,0,0,0,0],\n",
    "          [0,0,0,0,1,0,0,1],\n",
    "          [0,0,0,0,1,0,1,0]\n",
    "         ]\n",
    "from queue import Queue\n",
    "\n",
    "def bfs(adj, vtx, s):\n",
    "\n",
    "    n = len(vtx)\n",
    "\n",
    "    visited = [False]*n\n",
    "\n",
    "    Q = Queue()\n",
    "\n",
    "    Q.put(s)\n",
    "\n",
    "    visited[s] = True\n",
    "\n",
    "    while not Q.empty() :\n",
    "\n",
    "        s = Q.get()\n",
    "\n",
    "        print(vtx[s], end=' ')\n",
    "\n",
    "        for v in range(len(vtx)) :\n",
    "\n",
    "            if visited[v]==False and adj[s][v] != 0 :\n",
    "\n",
    "                Q.put(v)\n",
    "\n",
    "                visited[v] = True\n",
    "\n",
    "    return\n",
    "\n",
    " \n",
    "\n",
    " \n",
    "\n",
    " \n",
    "\n",
    "print('BFS : ', end='')\n",
    "\n",
    "bfs(adjMat,vertex, 0)\n",
    "\n",
    "print()"
   ]
  }
 ],
 "metadata": {
  "kernelspec": {
   "display_name": "Python 3 (ipykernel)",
   "language": "python",
   "name": "python3"
  },
  "language_info": {
   "codemirror_mode": {
    "name": "ipython",
    "version": 3
   },
   "file_extension": ".py",
   "mimetype": "text/x-python",
   "name": "python",
   "nbconvert_exporter": "python",
   "pygments_lexer": "ipython3",
   "version": "3.10.9"
  }
 },
 "nbformat": 4,
 "nbformat_minor": 5
}
